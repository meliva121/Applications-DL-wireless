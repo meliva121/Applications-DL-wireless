{
  "cells": [
    {
      "cell_type": "markdown",
      "source": [
        "# **La capa física como autocodificador**\n",
        "Un autocodificador es un tipo de red neuronal artificial que se utiliza para encontrar una representación útil de algunos datos en una capa intermedia x aprendiendo a reproducir la entrada en la salida.\n",
        "\n",
        "<img src=\"https://github.com/mgoutay/autoencodeur/blob/master/Images/autoencoder_0.png?raw=true\" alt=\"Drawing\" style=\"width: 400px;\"/>"
      ],
      "metadata": {
        "id": "XWYQz9cFMb1c"
      }
    },
    {
      "cell_type": "markdown",
      "source": [
        "##Inicialización\n",
        "**Primero: cambie el tiempo de ejecución y la aceleración de hardware**\n",
        "\n",
        "Ejecución → Cambiar tipo de ejecución\n",
        "\n",
        "- Programa de ejecución: Python 3\n",
        "- Acelerador de hardware: GPU"
      ],
      "metadata": {
        "id": "cEr74NHzMzrZ"
      }
    },
    {
      "cell_type": "code",
      "execution_count": null,
      "metadata": {
        "id": "oAwNS_-EJpoI",
        "outputId": "860cb00a-5804-4641-a83f-cb16aac2ab6d",
        "colab": {
          "base_uri": "https://localhost:8080/"
        }
      },
      "outputs": [
        {
          "output_type": "stream",
          "name": "stdout",
          "text": [
            "Colab only includes TensorFlow 2.x; %tensorflow_version has no effect.\n"
          ]
        }
      ],
      "source": [
        "#Instale TensorFlow 2.0 en Google Collab si es necesario\n",
        "try:\n",
        "  # %tensorflow_version solo existe en Colab.\n",
        "  %tensorflow_version 2.x\n",
        "except Exception:\n",
        "    pass"
      ]
    },
    {
      "cell_type": "code",
      "execution_count": null,
      "metadata": {
        "id": "WMsxCcy0JpoJ",
        "outputId": "bc445a6e-7790-4271-c41e-41dda154d0e5",
        "colab": {
          "base_uri": "https://localhost:8080/"
        }
      },
      "outputs": [
        {
          "output_type": "stream",
          "name": "stdout",
          "text": [
            "Tensorflow version:  2.8.2\n",
            "Number of GPUs available : 1\n",
            "Only GPU number 0 used\n"
          ]
        }
      ],
      "source": [
        "#Set the GPU you want to use\n",
        "num_GPU = 0\n",
        "\n",
        "import tensorflow as tf\n",
        "print('Tensorflow version: ', tf.__version__)\n",
        "\n",
        "gpus = tf.config.experimental.list_physical_devices(\"GPU\")\n",
        "print('Number of GPUs available :', len(gpus))\n",
        "\n",
        "if num_GPU < len(gpus):\n",
        "    tf.config.experimental.set_visible_devices(gpus[num_GPU], 'GPU')\n",
        "    tf.config.experimental.set_memory_growth(gpus[num_GPU], True)\n",
        "    print('Only GPU number', num_GPU, 'used')"
      ]
    },
    {
      "cell_type": "code",
      "execution_count": 7,
      "metadata": {
        "id": "oNPQNiYiJpoK"
      },
      "outputs": [],
      "source": [
        "import numpy as np\n",
        "import matplotlib.pyplot as plt  \n",
        "\n",
        "from tensorflow.keras import Model\n",
        "from tensorflow.keras.layers import Layer, Dense, Softmax"
      ]
    },
    {
      "cell_type": "code",
      "execution_count": null,
      "metadata": {
        "id": "BBevWBs-JpoM"
      },
      "outputs": [],
      "source": [
        "SEED = 1"
      ]
    },
    {
      "cell_type": "markdown",
      "source": [
        "##Modulación\n",
        "Recuerde la modulación: el objetivo es encontrar un buen conjunto de símbolos para enviar a través de un canal.\n",
        "\n",
        "Si queremos enviar 3 bits, necesitamos tener **8 símbolos**:\n",
        "![Modulación](https://github.com/mgoutay/ml_course/blob/master/Images/AWGN.png?raw=true)\n",
        "\n",
        "La constelación (aquí 8-PSK) necesita ser robusta al canal (aquí canal AWGN).\n",
        "\n",
        "¡Lo que queremos es encontrar una constelación mejor!"
      ],
      "metadata": {
        "id": "WCyJEo89Ndsq"
      }
    },
    {
      "cell_type": "markdown",
      "source": [
        "## Comunicar mensajes\n",
        "**Un sistema de comunicación basado en autocodificador tiene como objetivo implementar el transmisor, el canal y el receptor como un solo NN que reconstruye su entrada en su salida**.\n",
        "\n",
        "El objetivo es aprender una modulación que sea robusta con respecto a las perturbaciones introducidas por el canal.\n",
        "\n",
        "El canal se implementa como una \"capa de ruido\" sin ningún parámetro aprendible, que debe ser diferenciable para realizar SGD en los parámetros del transmisor.\n",
        "\n",
        "Ejemplos:\n",
        "\n",
        "- Canal AWGN: y=x+n\n",
        "\n",
        "- ...\n",
        "\n",
        "![autoencoder](https://github.com/mgoutay/autoencodeur/blob/master/Images/autoencoder.png?raw=true)"
      ],
      "metadata": {
        "id": "RkUFWMUdOAql"
      }
    },
    {
      "cell_type": "markdown",
      "source": [
        "**Transmitamos mensajes**.\n",
        "\n",
        "El primer hiperparámetro a configurar es el número total de símbolos (o mensajes) $M$. En nuestro problema simple, el número de usos del canal $Nc$ se establece en 1.\n",
        "\n",
        "Se puede ver que $M$ también se puede ver como el orden de modulación. De hecho, enviar uno de $M$ símbolos (mensaje) es equivalente a enviar $\\log_2(M)$ bits.\n",
        "\n",
        "Implementaremos la siguiente red:\n",
        "\n",
        "<img src=\"https://github.com/mgoutay/ml_course/blob/master/Images/autoencoder.png?raw=true\" alt=\"Drawing\" style=\"width: 700px;\"/>"
      ],
      "metadata": {
        "id": "PSFbzh9XOgJ-"
      }
    },
    {
      "cell_type": "markdown",
      "source": [
        "1. Cada mensaje $m$ se convierte primero a su representación one_hot. Si tenemos el tercer mensaje de 8, la representación one_hot será $[0,0,1,0,0,0,0,0]$\n",
        "2. Ese vector one_hot se le da a la primera capa densa.\n",
        "3. La última capa densa del transmisor generará $2$ números reales por símbolo.\n",
        "4. Serán normalizados para tener una energía promedio de $1$ por la capa de normalización.\n",
        "5. Luego, la capa $\\mathbb{R}2\\mathbb{C}$ convertirá esos $2$ números en 1 número complejo, que se enviará por el canal. Esos son los símbolos transmitidos x .\n",
        "6. El canal agregará algo de ruido gaussiano aleatorio (canal AWGN).\n",
        "7. La capa $\\mathbb{C}2\\mathbb{R}$ convierte el número complejo en $2$ números reales, que se le dan a la primera capa densa. Esto es obligatorio ya que Tensorflow no tiene capas densas complejas. La última capa densa tiene salida $M$ (el número de símbolos diferentes).\n",
        "8. La salida de la última capa densa se entrega a la capa softmax. Para un $y$ recibido dado, genera probabilidades $\\mathbf{p}_m=[p(m=0|y),p(m=1|y),...,p(m=M|y)]$ de que se haya enviado cada símbolo. Esas probabilidades son útiles durante el entrenamiento.\n",
        "- De hecho, esta es una tarea típica de clasificación. Queremos predecir a qué \"clase\" (qué símbolo) pertenece la señal recibida $y$. La pérdida habitual para la tarea de clasificación es la entropía cruzada categórica, que \"compara\" la clase verdadera ($m$) con las probabilidades predichas $\\mathbf{p}_m$.\n",
        "9. Tomamos el símbolo con mayor probabilidad de haber sido enviado con la capa $\\text{argmax}$. Este es $\\hat{m}$."
      ],
      "metadata": {
        "id": "_GtEE74HPT-2"
      }
    },
    {
      "cell_type": "markdown",
      "metadata": {
        "id": "13sgheWSJpoR"
      },
      "source": [
        "## Definir las capas"
      ]
    },
    {
      "cell_type": "code",
      "execution_count": null,
      "metadata": {
        "id": "BUJwoUuHJpoR"
      },
      "outputs": [],
      "source": [
        "class Normalization(Layer):\n",
        "\n",
        "    def __init__(self, **kwargs):\n",
        "        super(Normalization, self).__init__(**kwargs)\n",
        "\n",
        "    def call(self, symbols):        \n",
        "        # Normalizar la potencia por símbolo a 1\n",
        "        en_moy = tf.sqrt(2 * tf.reduce_mean(tf.square(symbols)))\n",
        "        symbols_norm = tf.divide(symbols, en_moy)\n",
        "        \n",
        "        return symbols_norm"
      ]
    },
    {
      "cell_type": "code",
      "execution_count": null,
      "metadata": {
        "id": "hXGb88WvJpoR"
      },
      "outputs": [],
      "source": [
        "class R2C(Layer):\n",
        "\n",
        "    def __init__(self, **kwargs):\n",
        "        super(R2C, self).__init__(**kwargs)\n",
        "\n",
        "    def call(self, x):\n",
        "        # Convierte 2Nc números reales en Nc números complejos\n",
        "        x_cplx = tf.complex(x[:, :1], x[:, 1:])\n",
        "            \n",
        "        return x_cplx"
      ]
    },
    {
      "cell_type": "code",
      "execution_count": null,
      "metadata": {
        "id": "NQQ2dWMGJpoS"
      },
      "outputs": [],
      "source": [
        "class C2R(Layer):\n",
        "\n",
        "    def __init__(self, **kwargs):\n",
        "        super(C2R, self).__init__(**kwargs)\n",
        "\n",
        "    def call(self, y):\n",
        "        #convierte Nc números complejos en 2Nc números reales\n",
        "        y_real = tf.concat([tf.math.real(y), tf.math.imag(y)], axis=1)\n",
        "            \n",
        "        return y_real"
      ]
    },
    {
      "cell_type": "code",
      "execution_count": null,
      "metadata": {
        "id": "p_ISUxZuJpoS"
      },
      "outputs": [],
      "source": [
        "class OneHot(Layer):\n",
        "\n",
        "    def __init__(self, M, **kwargs):\n",
        "        super(OneHot, self).__init__(**kwargs)\n",
        "        self.M = M\n",
        "\n",
        "    def call(self, msg):\n",
        "        \n",
        "        one_hot_msg = tf.one_hot(msg, depth = M)\n",
        "        \n",
        "        return one_hot_msg"
      ]
    },
    {
      "cell_type": "code",
      "execution_count": null,
      "metadata": {
        "id": "LDwm-H7iJpoT"
      },
      "outputs": [],
      "source": [
        "class Channel(Layer):\n",
        "\n",
        "    def __init__(self, **kwargs):\n",
        "        super(Channel, self).__init__(**kwargs)\n",
        "            \n",
        "    def call(self, x, snr):\n",
        "        # Agrega ruido gaussiano aleatorio a la entrada\n",
        "        noise_stddev = tf.sqrt( 2 / tf.pow(10., snr/10.0))\n",
        "        noise_r = tf.random.normal(shape = tf.shape(x), stddev = 1) * noise_stddev/tf.sqrt(2.)\n",
        "        noise_i = tf.random.normal(shape = tf.shape(x), stddev = 1) * noise_stddev/tf.sqrt(2.)\n",
        "        noise_cplx = tf.complex(noise_r, noise_i, name=\"noise\")\n",
        "\n",
        "        y = x + noise_cplx\n",
        "\n",
        "        return y"
      ]
    },
    {
      "cell_type": "markdown",
      "metadata": {
        "id": "V-fMyym2JpoT"
      },
      "source": [
        "## Generar mensajes"
      ]
    },
    {
      "cell_type": "code",
      "execution_count": 1,
      "metadata": {
        "id": "FOKmXaJQJpoT"
      },
      "outputs": [],
      "source": [
        "def generate_ds_msg(epoch_len, batch_size, M):\n",
        "    \n",
        "    #Generar un conjunto de datos de lotes de mensajes 'epoch_len'. Cada lote\n",
        "    #tiene un tamaño 'batch_size' y consta de mensajes (símbolos) entre 0 y M-1\n",
        "    rand_msg = tf.random.uniform(shape=[epoch_len, batch_size], minval=0, maxval=M, dtype=tf.int32)\n",
        "    features_ds = tf.data.Dataset.from_tensor_slices(rand_msg)\n",
        "    \n",
        "    #Las etiquetas son las mismas que las funciones: este es un codificador\n",
        "    #automático, queremos predecir el mismo mensaje que se ha enviado.\n",
        "    labels_ds = features_ds\n",
        "    \n",
        "    return (features_ds, labels_ds)"
      ]
    },
    {
      "cell_type": "markdown",
      "metadata": {
        "id": "V2mhsHemJpoT"
      },
      "source": [
        "## Define the model"
      ]
    },
    {
      "cell_type": "code",
      "execution_count": null,
      "metadata": {
        "id": "wmv7xaMqJpoU"
      },
      "outputs": [],
      "source": [
        "class Autoencoder(Model):\n",
        "\n",
        "    def __init__(self, M, **kwargs):\n",
        "        super(Autoencoder, self).__init__(**kwargs)\n",
        "        \n",
        "        #Establecer los atributos de la clase\n",
        "        self.M = M\n",
        "\n",
        "        #Inicializar las capas del transmisor\n",
        "        self.oh = OneHot(self.M)\n",
        "        self.d1 = Dense(64, activation='elu')\n",
        "        self.d2 = Dense(2, activation=None)\n",
        "        self.norm = Normalization()\n",
        "        self.r2c = R2C()\n",
        "        \n",
        "        #Inicializar el canal\n",
        "        self.ch = Channel()\n",
        "        \n",
        "        #Inicializar las capas del receptor\n",
        "        self.c2r = C2R()\n",
        "        self.d3 = Dense(64, activation='elu')\n",
        "        self.d4 = Dense(self.M, activation=None)\n",
        "        self.softm = Softmax()\n",
        "    \n",
        "    def call(self, inputs, snr):\n",
        "        \n",
        "        # Transmisor\n",
        "        self.x1 = self.oh(inputs)\n",
        "        self.x2 = self.d1(self.x1)\n",
        "        self.x3 = self.d2(self.x2)\n",
        "        self.x4 = self.norm(self.x3)\n",
        "        self.x = self.r2c(self.x4)\n",
        "    \n",
        "        #Canal\n",
        "        self.y = self.ch(self.x, snr)\n",
        "        \n",
        "        #Receptor\n",
        "        self.pb1 = self.c2r(self.y)\n",
        "        self.pb2 = self.d3(self.pb1)\n",
        "        self.pb3 = self.d4(self.pb2)\n",
        "        self.pb = self.softm(self.pb3)\n",
        "    \n",
        "        return self.pb"
      ]
    },
    {
      "cell_type": "markdown",
      "source": [
        "## ¿Qué pasa con la función de pérdida?\n",
        "La función de pérdida es la **entropía cruzada categórica** (solo hay una clase buena) **escasa**:"
      ],
      "metadata": {
        "id": "vIzte565UQuX"
      }
    },
    {
      "cell_type": "code",
      "execution_count": null,
      "metadata": {
        "id": "bVf3S96pJpoU"
      },
      "outputs": [],
      "source": [
        "loss_func = tf.keras.losses.SparseCategoricalCrossentropy()"
      ]
    },
    {
      "cell_type": "markdown",
      "metadata": {
        "id": "KKTKgiO0JpoU"
      },
      "source": [
        "## Crear una instancia del codificador automático"
      ]
    },
    {
      "cell_type": "code",
      "execution_count": null,
      "metadata": {
        "id": "TOeo_yR2JpoU"
      },
      "outputs": [],
      "source": [
        "# Numero de mensajes\n",
        "M = 8"
      ]
    },
    {
      "cell_type": "code",
      "execution_count": 6,
      "metadata": {
        "id": "nOR-GBd7JpoU",
        "colab": {
          "base_uri": "https://localhost:8080/",
          "height": 235
        },
        "outputId": "77ee8855-2c55-47fc-e5bf-4c55ec93ee82"
      },
      "outputs": [
        {
          "output_type": "error",
          "ename": "NameError",
          "evalue": "ignored",
          "traceback": [
            "\u001b[0;31m---------------------------------------------------------------------------\u001b[0m",
            "\u001b[0;31mNameError\u001b[0m                                 Traceback (most recent call last)",
            "\u001b[0;32m<ipython-input-6-9d3592a7e2ab>\u001b[0m in \u001b[0;36m<module>\u001b[0;34m()\u001b[0m\n\u001b[1;32m      1\u001b[0m \u001b[0;31m#Establecer las semillas\u001b[0m\u001b[0;34m\u001b[0m\u001b[0;34m\u001b[0m\u001b[0;34m\u001b[0m\u001b[0m\n\u001b[0;32m----> 2\u001b[0;31m \u001b[0mnp\u001b[0m\u001b[0;34m.\u001b[0m\u001b[0mrandom\u001b[0m\u001b[0;34m.\u001b[0m\u001b[0mseed\u001b[0m\u001b[0;34m(\u001b[0m\u001b[0mSEED\u001b[0m\u001b[0;34m)\u001b[0m\u001b[0;34m\u001b[0m\u001b[0;34m\u001b[0m\u001b[0m\n\u001b[0m\u001b[1;32m      3\u001b[0m \u001b[0mtf\u001b[0m\u001b[0;34m.\u001b[0m\u001b[0mrandom\u001b[0m\u001b[0;34m.\u001b[0m\u001b[0mset_seed\u001b[0m\u001b[0;34m(\u001b[0m\u001b[0mSEED\u001b[0m\u001b[0;34m)\u001b[0m\u001b[0;34m\u001b[0m\u001b[0;34m\u001b[0m\u001b[0m\n\u001b[1;32m      4\u001b[0m \u001b[0;34m\u001b[0m\u001b[0m\n\u001b[1;32m      5\u001b[0m \u001b[0;31m#Crear el codificador automático\u001b[0m\u001b[0;34m\u001b[0m\u001b[0;34m\u001b[0m\u001b[0;34m\u001b[0m\u001b[0m\n",
            "\u001b[0;31mNameError\u001b[0m: name 'np' is not defined"
          ]
        }
      ],
      "source": [
        "#Establecer las semillas\n",
        "np.random.seed(SEED)\n",
        "tf.random.set_seed(SEED)\n",
        "\n",
        "#Crear el codificador automático\n",
        "autoencoder = Autoencoder(M)"
      ]
    },
    {
      "cell_type": "markdown",
      "metadata": {
        "id": "d143f7OQJpoU"
      },
      "source": [
        "# See constellation before training"
      ]
    },
    {
      "cell_type": "code",
      "execution_count": 4,
      "metadata": {
        "scrolled": false,
        "id": "2tD9Rrn9JpoV",
        "outputId": "73bb20dd-d965-452b-9891-e4088c5794b9",
        "colab": {
          "base_uri": "https://localhost:8080/",
          "height": 235
        }
      },
      "outputs": [
        {
          "output_type": "error",
          "ename": "NameError",
          "evalue": "ignored",
          "traceback": [
            "\u001b[0;31m---------------------------------------------------------------------------\u001b[0m",
            "\u001b[0;31mNameError\u001b[0m                                 Traceback (most recent call last)",
            "\u001b[0;32m<ipython-input-4-f9f5bdbbc928>\u001b[0m in \u001b[0;36m<module>\u001b[0;34m()\u001b[0m\n\u001b[1;32m      2\u001b[0m \u001b[0;34m\u001b[0m\u001b[0m\n\u001b[1;32m      3\u001b[0m \u001b[0;31m#Forme un lote que contenga todos los mensajes.\u001b[0m\u001b[0;34m\u001b[0m\u001b[0;34m\u001b[0m\u001b[0;34m\u001b[0m\u001b[0m\n\u001b[0;32m----> 4\u001b[0;31m \u001b[0mbatch_msg\u001b[0m \u001b[0;34m=\u001b[0m \u001b[0mtf\u001b[0m\u001b[0;34m.\u001b[0m\u001b[0mcast\u001b[0m\u001b[0;34m(\u001b[0m\u001b[0mtf\u001b[0m\u001b[0;34m.\u001b[0m\u001b[0mlinspace\u001b[0m\u001b[0;34m(\u001b[0m\u001b[0;36m0.\u001b[0m\u001b[0;34m,\u001b[0m \u001b[0mM\u001b[0m\u001b[0;34m-\u001b[0m\u001b[0;36m1\u001b[0m\u001b[0;34m,\u001b[0m \u001b[0mM\u001b[0m\u001b[0;34m)\u001b[0m\u001b[0;34m,\u001b[0m \u001b[0mtf\u001b[0m\u001b[0;34m.\u001b[0m\u001b[0mint32\u001b[0m\u001b[0;34m)\u001b[0m\u001b[0;34m\u001b[0m\u001b[0;34m\u001b[0m\u001b[0m\n\u001b[0m\u001b[1;32m      5\u001b[0m \u001b[0;34m\u001b[0m\u001b[0m\n\u001b[1;32m      6\u001b[0m \u001b[0mp_b\u001b[0m \u001b[0;34m=\u001b[0m \u001b[0mautoencoder\u001b[0m\u001b[0;34m(\u001b[0m\u001b[0mbatch_msg\u001b[0m\u001b[0;34m,\u001b[0m \u001b[0msnr_eval\u001b[0m\u001b[0;34m)\u001b[0m\u001b[0;34m\u001b[0m\u001b[0;34m\u001b[0m\u001b[0m\n",
            "\u001b[0;31mNameError\u001b[0m: name 'tf' is not defined"
          ]
        }
      ],
      "source": [
        "snr_eval = 10\n",
        "\n",
        "#Forme un lote que contenga todos los mensajes.\n",
        "batch_msg = tf.cast(tf.linspace(0., M-1, M), tf.int32)\n",
        "\n",
        "p_b = autoencoder(batch_msg, snr_eval)\n",
        "\n",
        "msg_np = batch_msg.numpy()\n",
        "x_np = autoencoder.x.numpy()\n",
        "\n",
        "plt.figure(figsize=(4.5, 4))\n",
        "plt.scatter(np.real(x_np[:, 0]), np.imag(x_np[:, 0]))\n",
        "for i in range(np.shape(x_np)[0]) :\n",
        "    plt.text(np.real(x_np[i, 0]), np.imag(x_np[i, 0]), str(msg_np[i]), fontsize=18)"
      ]
    },
    {
      "cell_type": "code",
      "source": [
        "batch_msg.shape"
      ],
      "metadata": {
        "colab": {
          "base_uri": "https://localhost:8080/",
          "height": 165
        },
        "id": "O-6sLTkmiCba",
        "outputId": "c6100979-370d-459f-c433-2101218bc147"
      },
      "execution_count": 3,
      "outputs": [
        {
          "output_type": "error",
          "ename": "NameError",
          "evalue": "ignored",
          "traceback": [
            "\u001b[0;31m---------------------------------------------------------------------------\u001b[0m",
            "\u001b[0;31mNameError\u001b[0m                                 Traceback (most recent call last)",
            "\u001b[0;32m<ipython-input-3-a816790705d3>\u001b[0m in \u001b[0;36m<module>\u001b[0;34m()\u001b[0m\n\u001b[0;32m----> 1\u001b[0;31m \u001b[0mbatch_msg\u001b[0m\u001b[0;34m.\u001b[0m\u001b[0mshape\u001b[0m\u001b[0;34m\u001b[0m\u001b[0;34m\u001b[0m\u001b[0m\n\u001b[0m",
            "\u001b[0;31mNameError\u001b[0m: name 'batch_msg' is not defined"
          ]
        }
      ]
    },
    {
      "cell_type": "markdown",
      "metadata": {
        "id": "D0vdbuM0JpoV"
      },
      "source": [
        "# Train"
      ]
    },
    {
      "cell_type": "code",
      "execution_count": null,
      "metadata": {
        "id": "5D3y-6M-JpoV",
        "outputId": "185948c0-aeae-4327-b28d-3676ec15e917",
        "colab": {
          "base_uri": "https://localhost:8080/"
        }
      },
      "outputs": [
        {
          "output_type": "stream",
          "name": "stdout",
          "text": [
            "Symbol Error Rate after each epoch:\n",
            "0.2302, 0.0468, 0.014, 0.01, 0.0111, 0.0109, 0.0107, 0.011, 0.0105, 0.009, 0.0102, 0.0094, 0.0102, 0.0091, 0.0107, 0.0111, 0.0097, 0.0098, 0.0112, 0.0094, 0.009, 0.0113, 0.0097, 0.0106, 0.009, Done\n"
          ]
        }
      ],
      "source": [
        "batch_size = 10000\n",
        "epoch_size = 100\n",
        "nb_epoch = 25\n",
        "snr_training = 15\n",
        "\n",
        "print('Symbol Error Rate after each epoch:')\n",
        "\n",
        "#Inicializar optimizador\n",
        "optimizer = tf.keras.optimizers.Adam()\n",
        "\n",
        "for epoch in range(nb_epoch):\n",
        "    \n",
        "    #Crear un conjunto de datos aleatorio para cada época\n",
        "    dataset = tf.data.Dataset.zip(generate_ds_msg(epoch_size, batch_size, M))\n",
        "\n",
        "    #Iterar sobre los lotes del conjunto de datos.\n",
        "    for step, (features, labels) in enumerate(dataset):\n",
        "        # Abrir una GradientTape.\n",
        "        with tf.GradientTape() as tape:\n",
        "\n",
        "            #Paso hacia adelante.\n",
        "            probas = autoencoder(features, snr_training)\n",
        "\n",
        "            #Valor de pérdida para este lote.\n",
        "            loss_value =  loss_func(y_true=labels, y_pred=probas)\n",
        "\n",
        "        #Obtenga gradientes de pérdida con respecto a los pesos.\n",
        "        gradients = tape.gradient(loss_value, autoencoder.trainable_weights)\n",
        "\n",
        "        #Actualice los pesos de nuestra capa lineal.\n",
        "        optimizer.apply_gradients(zip(gradients, autoencoder.trainable_weights))\n",
        "    \n",
        "    #Tome el argmax de la distribución de probabilidad como el mensaje estimado\n",
        "    m_hat = tf.argmax(probas, axis=1, output_type=tf.int32)\n",
        "    \n",
        "    ser = tf.reduce_sum(tf.clip_by_value(tf.abs(labels-m_hat), 0, 1))/(batch_size)\n",
        "    print(ser.numpy(), end=', ')\n",
        "print('Hecho')"
      ]
    },
    {
      "cell_type": "markdown",
      "metadata": {
        "id": "MJaddVcDJpoV"
      },
      "source": [
        "## Evaluate the model"
      ]
    },
    {
      "cell_type": "code",
      "execution_count": null,
      "metadata": {
        "id": "Vl9qnVoiJpoV",
        "outputId": "fc9b0faa-ada9-4c91-cb4d-1083558202e7",
        "colab": {
          "base_uri": "https://localhost:8080/"
        }
      },
      "outputs": [
        {
          "output_type": "stream",
          "name": "stdout",
          "text": [
            "-5, -4, -3, -2, -1, 0, 1, 2, 3, 4, 5, 6, 7, 8, 9, 10, 11, 12, 13, 14, 15, 16, 17, 18, 19, 20, "
          ]
        }
      ],
      "source": [
        "snr_range = np.arange(-5, 21)\n",
        "results=[]\n",
        "bs_eval = 100000\n",
        "\n",
        "for snr_eval in snr_range:\n",
        "    \n",
        "    batch_msg = tf.random.uniform(shape=[bs_eval], minval=0, maxval=M, dtype=tf.int32)\n",
        "    \n",
        "    p_m = autoencoder(batch_msg, snr_eval)\n",
        "    m_hat = tf.argmax(p_m, axis=1, output_type=tf.int32)\n",
        "    \n",
        "    ser = tf.reduce_sum(tf.clip_by_value(tf.abs(batch_msg-m_hat), 0, 1))/(bs_eval)\n",
        "    print(snr_eval, end=', ')\n",
        "    results.append(ser.numpy())"
      ]
    },
    {
      "cell_type": "code",
      "execution_count": null,
      "metadata": {
        "id": "l4sJdUVWJpoW"
      },
      "outputs": [],
      "source": [
        "PSK8 = np.array([0.77506, 0.765, 0.74813, 0.7275, 0.70289, 0.68373, 0.65119, 0.62056, 0.58119, 0.54035, 0.49605, 0.44836, 0.39359, 0.34086, 0.28307, 0.22817, 0.17711, 0.12972, 0.09176, 0.05412, 0.03235, 0.01594, 0.0068, 0.00256, 0.00071, 0.00015])"
      ]
    },
    {
      "cell_type": "code",
      "execution_count": null,
      "metadata": {
        "id": "DasuE0RzJpoW",
        "outputId": "ea5cb259-e05e-4f4d-e591-2673826820e3",
        "colab": {
          "base_uri": "https://localhost:8080/"
        }
      },
      "outputs": [
        {
          "output_type": "display_data",
          "data": {
            "text/plain": [
              "<Figure size 576x360 with 1 Axes>"
            ],
            "image/png": "[encoded data removed]"
          },
          "metadata": {
            "needs_background": "light"
          }
        }
      ],
      "source": [
        "plt.figure(figsize=(8, 5))\n",
        "plt.semilogy(snr_range, PSK8, label='8-PSK')\n",
        "plt.semilogy(snr_range, results, label='Autoencoder')\n",
        "plt.legend()\n",
        "plt.xlabel('SNR(dB)')\n",
        "plt.ylabel('Symbol Eror Rate');\n",
        "plt.ylim(1e-4, 1)\n",
        "plt.grid(which='major', alpha=0.5)\n",
        "plt.grid(which='minor', alpha=0.25)"
      ]
    },
    {
      "cell_type": "markdown",
      "metadata": {
        "id": "yCudQuuSJpoW"
      },
      "source": [
        "## Ver constelación aprendida"
      ]
    },
    {
      "cell_type": "code",
      "execution_count": null,
      "metadata": {
        "id": "tpXvCEU6JpoW",
        "outputId": "eb1eda70-acc7-4273-e5c3-90ae9b1cd5cd",
        "colab": {
          "base_uri": "https://localhost:8080/",
          "height": 269
        }
      },
      "outputs": [
        {
          "output_type": "display_data",
          "data": {
            "text/plain": [
              "<Figure size 324x288 with 1 Axes>"
            ],
            "image/png": "[encoded data removed]"
          },
          "metadata": {
            "needs_background": "light"
          }
        }
      ],
      "source": [
        "snr_eval = 10\n",
        "\n",
        "# Formar un lote que contenga todos los mensajes.\n",
        "batch_msg = tf.cast(tf.linspace(0., M-1, M), tf.int32)\n",
        "\n",
        "p_b = autoencoder(batch_msg, snr_eval)\n",
        "\n",
        "msg_np = batch_msg.numpy()\n",
        "x_np = autoencoder.x.numpy()\n",
        "\n",
        "plt.figure(figsize=(4.5, 4))\n",
        "plt.scatter(np.real(x_np[:, 0]), np.imag(x_np[:, 0]))\n",
        "for i in range(np.shape(x_np)[0]) :\n",
        "    plt.text(np.real(x_np[i, 0]), np.imag(x_np[i, 0]), str(msg_np[i]), fontsize=18)"
      ]
    },
    {
      "cell_type": "code",
      "execution_count": null,
      "metadata": {
        "id": "QlXiNEFtJpoW"
      },
      "outputs": [],
      "source": [
        ""
      ]
    }
  ],
  "metadata": {
    "kernelspec": {
      "display_name": "Python 3",
      "language": "python",
      "name": "python3"
    },
    "language_info": {
      "codemirror_mode": {
        "name": "ipython",
        "version": 3
      },
      "file_extension": ".py",
      "mimetype": "text/x-python",
      "name": "python",
      "nbconvert_exporter": "python",
      "pygments_lexer": "ipython3",
      "version": "3.6.9"
    },
    "colab": {
      "name": "Copia de DL_exercise_solution.ipynb",
      "provenance": []
    },
    "accelerator": "GPU",
    "gpuClass": "standard"
  },
  "nbformat": 4,
  "nbformat_minor": 0
}